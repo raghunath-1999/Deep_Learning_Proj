{
  "nbformat": 4,
  "nbformat_minor": 0,
  "metadata": {
    "colab": {
      "provenance": []
    },
    "kernelspec": {
      "name": "python3",
      "display_name": "Python 3"
    },
    "language_info": {
      "name": "python"
    }
  },
  "cells": [
    {
      "cell_type": "code",
      "execution_count": null,
      "metadata": {
        "colab": {
          "base_uri": "https://localhost:8080/"
        },
        "id": "mGmDnWw5Klo9",
        "outputId": "477815d9-9f58-4f6d-96ec-4d58e63b31cf"
      },
      "outputs": [
        {
          "output_type": "stream",
          "name": "stdout",
          "text": [
            "downloading trainDevTestTrees_PTB.zip\n"
          ]
        },
        {
          "output_type": "stream",
          "name": "stderr",
          "text": [
            "trainDevTestTrees_PTB.zip: 100%|██████████| 790k/790k [00:01<00:00, 738kB/s]\n"
          ]
        },
        {
          "output_type": "stream",
          "name": "stdout",
          "text": [
            "extracting\n"
          ]
        }
      ],
      "source": [
        "import copy\n",
        "import torch\n",
        "from torch import nn\n",
        "from torch import optim\n",
        "import torchtext\n",
        "from torchtext import data\n",
        "from torchtext import datasets\n",
        "\n",
        "TEXT = data.Field(sequential=True, batch_first=True, lower=True)\n",
        "LABEL = data.LabelField()\n",
        "\n",
        "# load data splits\n",
        "train_data, val_data, test_data = datasets.SST.splits(TEXT, LABEL)\n",
        "\n",
        "# build dictionary\n",
        "TEXT.build_vocab(train_data)\n",
        "LABEL.build_vocab(train_data)\n",
        "\n",
        "# hyperparameters\n",
        "vocab_size = len(TEXT.vocab)\n",
        "label_size = len(LABEL.vocab)\n",
        "padding_idx = TEXT.vocab.stoi['<pad>']\n",
        "embedding_dim = 128\n",
        "hidden_dim = 128\n",
        "\n",
        "# build iterators\n",
        "train_iter, val_iter, test_iter = data.BucketIterator.splits(\n",
        "    (train_data, val_data, test_data),\n",
        "    batch_size=32)"
      ]
    },
    {
      "cell_type": "code",
      "source": [],
      "metadata": {
        "id": "NhQ_58tT79tt"
      },
      "execution_count": null,
      "outputs": []
    },
    {
      "cell_type": "markdown",
      "source": [
        "problem 1\n"
      ],
      "metadata": {
        "id": "lowKfixYF8kP"
      }
    },
    {
      "cell_type": "code",
      "source": [
        "# pip install torchtext==0.6.0"
      ],
      "metadata": {
        "colab": {
          "base_uri": "https://localhost:8080/",
          "height": 676
        },
        "id": "eaU6L_OKKm2K",
        "outputId": "24172131-315c-4ae9-ae1b-65e69257017d"
      },
      "execution_count": null,
      "outputs": [
        {
          "output_type": "stream",
          "name": "stdout",
          "text": [
            "Collecting torchtext==0.6.0\n",
            "  Downloading torchtext-0.6.0-py3-none-any.whl (64 kB)\n",
            "\u001b[2K     \u001b[90m━━━━━━━━━━━━━━━━━━━━━━━━━━━━━━━━━━━━━━━━\u001b[0m \u001b[32m64.2/64.2 kB\u001b[0m \u001b[31m1.2 MB/s\u001b[0m eta \u001b[36m0:00:00\u001b[0m\n",
            "\u001b[?25hRequirement already satisfied: tqdm in /usr/local/lib/python3.10/dist-packages (from torchtext==0.6.0) (4.66.1)\n",
            "Requirement already satisfied: requests in /usr/local/lib/python3.10/dist-packages (from torchtext==0.6.0) (2.31.0)\n",
            "Requirement already satisfied: torch in /usr/local/lib/python3.10/dist-packages (from torchtext==0.6.0) (2.0.1+cu118)\n",
            "Requirement already satisfied: numpy in /usr/local/lib/python3.10/dist-packages (from torchtext==0.6.0) (1.23.5)\n",
            "Requirement already satisfied: six in /usr/local/lib/python3.10/dist-packages (from torchtext==0.6.0) (1.16.0)\n",
            "Collecting sentencepiece (from torchtext==0.6.0)\n",
            "  Downloading sentencepiece-0.1.99-cp310-cp310-manylinux_2_17_x86_64.manylinux2014_x86_64.whl (1.3 MB)\n",
            "\u001b[2K     \u001b[90m━━━━━━━━━━━━━━━━━━━━━━━━━━━━━━━━━━━━━━━━\u001b[0m \u001b[32m1.3/1.3 MB\u001b[0m \u001b[31m16.3 MB/s\u001b[0m eta \u001b[36m0:00:00\u001b[0m\n",
            "\u001b[?25hRequirement already satisfied: charset-normalizer<4,>=2 in /usr/local/lib/python3.10/dist-packages (from requests->torchtext==0.6.0) (3.3.0)\n",
            "Requirement already satisfied: idna<4,>=2.5 in /usr/local/lib/python3.10/dist-packages (from requests->torchtext==0.6.0) (3.4)\n",
            "Requirement already satisfied: urllib3<3,>=1.21.1 in /usr/local/lib/python3.10/dist-packages (from requests->torchtext==0.6.0) (2.0.6)\n",
            "Requirement already satisfied: certifi>=2017.4.17 in /usr/local/lib/python3.10/dist-packages (from requests->torchtext==0.6.0) (2023.7.22)\n",
            "Requirement already satisfied: filelock in /usr/local/lib/python3.10/dist-packages (from torch->torchtext==0.6.0) (3.12.4)\n",
            "Requirement already satisfied: typing-extensions in /usr/local/lib/python3.10/dist-packages (from torch->torchtext==0.6.0) (4.5.0)\n",
            "Requirement already satisfied: sympy in /usr/local/lib/python3.10/dist-packages (from torch->torchtext==0.6.0) (1.12)\n",
            "Requirement already satisfied: networkx in /usr/local/lib/python3.10/dist-packages (from torch->torchtext==0.6.0) (3.1)\n",
            "Requirement already satisfied: jinja2 in /usr/local/lib/python3.10/dist-packages (from torch->torchtext==0.6.0) (3.1.2)\n",
            "Requirement already satisfied: triton==2.0.0 in /usr/local/lib/python3.10/dist-packages (from torch->torchtext==0.6.0) (2.0.0)\n",
            "Requirement already satisfied: cmake in /usr/local/lib/python3.10/dist-packages (from triton==2.0.0->torch->torchtext==0.6.0) (3.27.6)\n",
            "Requirement already satisfied: lit in /usr/local/lib/python3.10/dist-packages (from triton==2.0.0->torch->torchtext==0.6.0) (17.0.2)\n",
            "Requirement already satisfied: MarkupSafe>=2.0 in /usr/local/lib/python3.10/dist-packages (from jinja2->torch->torchtext==0.6.0) (2.1.3)\n",
            "Requirement already satisfied: mpmath>=0.19 in /usr/local/lib/python3.10/dist-packages (from sympy->torch->torchtext==0.6.0) (1.3.0)\n",
            "Installing collected packages: sentencepiece, torchtext\n",
            "  Attempting uninstall: torchtext\n",
            "    Found existing installation: torchtext 0.15.2\n",
            "    Uninstalling torchtext-0.15.2:\n",
            "      Successfully uninstalled torchtext-0.15.2\n",
            "Successfully installed sentencepiece-0.1.99 torchtext-0.6.0\n"
          ]
        },
        {
          "output_type": "display_data",
          "data": {
            "application/vnd.colab-display-data+json": {
              "pip_warning": {
                "packages": [
                  "torchtext"
                ]
              }
            }
          },
          "metadata": {}
        }
      ]
    },
    {
      "cell_type": "code",
      "source": [
        "def train(model, iterator, optimizer, criterion):\n",
        "    model.train()\n",
        "    epoch_loss = 0\n",
        "    correct_preds = 0\n",
        "    total_preds = 0\n",
        "\n",
        "    for batch in iterator:\n",
        "        optimizer.zero_grad()\n",
        "        text = batch.text\n",
        "        predictions = model(text).squeeze(1)\n",
        "        loss = criterion(predictions, batch.label)\n",
        "        loss.backward()\n",
        "        optimizer.step()\n",
        "        epoch_loss += loss.item()\n",
        "\n",
        "        # Calculate training accuracy\n",
        "        preds = torch.argmax(predictions, dim=1)\n",
        "        correct_preds += (preds == batch.label).sum().item()\n",
        "        total_preds += len(batch.label)\n",
        "\n",
        "    accuracy = correct_preds / total_preds\n",
        "    return epoch_loss / len(iterator), accuracy\n",
        "\n",
        "\n",
        "def evaluate(model, iterator, criterion):\n",
        "    model.eval()\n",
        "    epoch_loss = 0\n",
        "    correct_preds = 0\n",
        "    total_preds = 0\n",
        "\n",
        "    with torch.no_grad():\n",
        "        for batch in iterator:\n",
        "            text = batch.text\n",
        "            predictions = model(text).squeeze(1)\n",
        "            loss = criterion(predictions, batch.label)\n",
        "            epoch_loss += loss.item()\n",
        "\n",
        "            # Calculate accuracy\n",
        "            preds = torch.argmax(predictions, dim=1)\n",
        "            correct_preds += (preds == batch.label).sum().item()\n",
        "            total_preds += len(batch.label)\n",
        "\n",
        "    accuracy = correct_preds / total_preds\n",
        "    return epoch_loss / len(iterator), accuracy\n"
      ],
      "metadata": {
        "id": "nWj9LcZ1K-Lo"
      },
      "execution_count": null,
      "outputs": []
    },
    {
      "cell_type": "code",
      "source": [
        "class RNNClassifier(nn.Module):\n",
        "    def __init__(self, vocab_size, embedding_dim, hidden_dim, label_size, padding_idx):\n",
        "        super(RNNClassifier, self).__init__()\n",
        "        self.vocab_size = vocab_size\n",
        "        self.embedding_dim = embedding_dim\n",
        "        self.hidden_dim = hidden_dim\n",
        "        self.label_size = label_size\n",
        "        self.num_layers = 1\n",
        "        # 1. Embedding Layer\n",
        "        self.embedding = nn.Embedding(self.vocab_size, self.embedding_dim, padding_idx=padding_idx)\n",
        "\n",
        "        self.rnn = nn.RNN(self.embedding_dim, self.hidden_dim, self.num_layers, batch_first=True)\n",
        "        self.fc1 = nn.Linear(self.hidden_dim, self.hidden_dim+200)\n",
        "        self.fc2= nn.Linear(self.hidden_dim+200, self.label_size)\n",
        "\n",
        "\n",
        "    def zero_state(self, batch_size):\n",
        "        # implement the function, which returns an initial hidden state.\n",
        "        h0 = torch.zeros(self.num_layers, batch_size, self.hidden_dim)\n",
        "        return h0\n",
        "\n",
        "\n",
        "    def forward(self, text):\n",
        "\n",
        "        embedded = self.embedding(text)\n",
        "\n",
        "\n",
        "        batch_size = text.size(0)\n",
        "        h0 = self.zero_state(batch_size)\n",
        "        rnn_out, _ = self.rnn(embedded, h0)\n",
        "\n",
        "        final_hidden_state = rnn_out[:, -1, :]\n",
        "\n",
        "        x = self.fc1(final_hidden_state)\n",
        "        logits=self.fc2(x)\n",
        "\n",
        "        return logits"
      ],
      "metadata": {
        "id": "rErW1e1s0sqY"
      },
      "execution_count": null,
      "outputs": []
    },
    {
      "cell_type": "code",
      "source": [
        "\n",
        "model = RNNClassifier(vocab_size, embedding_dim, hidden_dim, label_size, padding_idx)"
      ],
      "metadata": {
        "id": "rvr72Cgg1z_B"
      },
      "execution_count": null,
      "outputs": []
    },
    {
      "cell_type": "code",
      "source": [
        "optimizer = optim.Adagrad(model.parameters(), lr=0.001)\n",
        "criterion = nn.CrossEntropyLoss()"
      ],
      "metadata": {
        "id": "v9kPsNgT11CM"
      },
      "execution_count": null,
      "outputs": []
    },
    {
      "cell_type": "code",
      "source": [
        "N_EPOCHS = 15\n",
        "train_acc_arr=[]\n",
        "val_acc_arr=[]\n",
        "train_lss_arr=[]\n",
        "test_lss_arr=[]\n",
        "test_acc_arr=[]\n",
        "val_lss_arr=[]\n",
        "\n",
        "for epoch in range(N_EPOCHS):\n",
        "\n",
        "    train_loss, train_acc = train(model, train_iter, optimizer, criterion)  # Pass device\n",
        "    val_loss, val_acc = evaluate(model, val_iter, criterion)\n",
        "    test_loss, test_acc = evaluate(model, test_iter, criterion)\n",
        "    test_lss_arr.append(test_loss)\n",
        "    test_acc_arr.append(test_acc)\n",
        "    train_acc_arr.append(train_acc)\n",
        "    val_acc_arr.append(val_acc)\n",
        "    train_lss_arr.append(train_loss)\n",
        "    val_lss_arr.append(val_loss)\n",
        "    print(\"Epoch\",epoch)\n",
        "    print(\"Train loss\",train_loss,\"Train acc\",train_acc*100)\n",
        "    print(\"Val loss\",val_loss,\"Val acc\",val_acc*100)\n",
        "    print(\"Test loss\",test_loss,\"Test acc\",test_acc*100)\n",
        "\n"
      ],
      "metadata": {
        "colab": {
          "base_uri": "https://localhost:8080/"
        },
        "id": "_w61SwJv2loC",
        "outputId": "7a9b11cc-7eb3-4f41-fe35-f027e8cb4793"
      },
      "execution_count": null,
      "outputs": [
        {
          "output_type": "stream",
          "name": "stdout",
          "text": [
            "Epoch 0\n",
            "Train loss 1.0492707017655676 Train acc 0.4173689138576779\n",
            "Val loss 1.046569788455963 Val acc 0.44232515894641233\n",
            "Test loss 1.0325618045670646 Test acc 0.4479638009049774\n",
            "Epoch 1\n",
            "Train loss 1.0471150966619285 Train acc 0.42275280898876405\n",
            "Val loss 1.0555036067962646 Val acc 0.44141689373297005\n",
            "Test loss 1.0354145339557104 Test acc 0.43981900452488687\n",
            "Epoch 2\n",
            "Train loss 1.0459663383523177 Train acc 0.4229868913857678\n",
            "Val loss 1.0512072648320878 Val acc 0.4032697547683924\n",
            "Test loss 1.0411345848015376 Test acc 0.41312217194570133\n",
            "Epoch 3\n",
            "Train loss 1.0461015513773715 Train acc 0.4226357677902622\n",
            "Val loss 1.063601963860648 Val acc 0.40417801998183467\n",
            "Test loss 1.0414196525301251 Test acc 0.4144796380090498\n",
            "Epoch 4\n",
            "Train loss 1.0462375841337197 Train acc 0.42181647940074907\n",
            "Val loss 1.0724592890058244 Val acc 0.3923705722070845\n",
            "Test loss 1.0447675117424555 Test acc 0.4104072398190045\n",
            "Epoch 5\n",
            "Train loss 1.045390568199229 Train acc 0.4243913857677903\n",
            "Val loss 1.0772142393248423 Val acc 0.3851044504995459\n",
            "Test loss 1.0465059850897107 Test acc 0.40542986425339367\n",
            "Epoch 6\n",
            "Train loss 1.045160930478171 Train acc 0.4247425093632959\n",
            "Val loss 1.0778616598674229 Val acc 0.39146230699364215\n",
            "Test loss 1.0491877947534833 Test acc 0.4104072398190045\n",
            "Epoch 7\n",
            "Train loss 1.0448443911941756 Train acc 0.4241573033707865\n",
            "Val loss 1.0780931557927813 Val acc 0.38782924613987285\n",
            "Test loss 1.0519798270293645 Test acc 0.4113122171945701\n",
            "Epoch 8\n",
            "Train loss 1.0447648377454237 Train acc 0.4250936329588015\n",
            "Val loss 1.0873754348073688 Val acc 0.3860127157129882\n",
            "Test loss 1.0543321583952223 Test acc 0.40407239819004526\n",
            "Epoch 9\n",
            "Train loss 1.044098764546355 Train acc 0.42521067415730335\n",
            "Val loss 1.0832011835915702 Val acc 0.3869209809264305\n",
            "Test loss 1.0523500374385288 Test acc 0.4117647058823529\n",
            "Epoch 10\n",
            "Train loss 1.0441652067591636 Train acc 0.42544475655430714\n",
            "Val loss 1.087471660545894 Val acc 0.3887375113533152\n",
            "Test loss 1.0559852233954838 Test acc 0.4108597285067873\n",
            "Epoch 11\n",
            "Train loss 1.0440213173516235 Train acc 0.4250936329588015\n",
            "Val loss 1.0787321329116821 Val acc 0.37783832879200724\n",
            "Test loss 1.0470026067325047 Test acc 0.40497737556561086\n",
            "Epoch 12\n",
            "Train loss 1.0433240800761105 Train acc 0.42532771535580527\n",
            "Val loss 1.0872889876365661 Val acc 0.3869209809264305\n",
            "Test loss 1.0561579304082054 Test acc 0.4113122171945701\n",
            "Epoch 13\n",
            "Train loss 1.043992936164699 Train acc 0.4272003745318352\n",
            "Val loss 1.080962073802948 Val acc 0.3832879200726612\n",
            "Test loss 1.05001836674554 Test acc 0.40407239819004526\n",
            "Epoch 14\n",
            "Train loss 1.0434347712591794 Train acc 0.4250936329588015\n",
            "Val loss 1.0763569491250173 Val acc 0.37783832879200724\n",
            "Test loss 1.0489923919950213 Test acc 0.4090497737556561\n"
          ]
        }
      ]
    },
    {
      "cell_type": "code",
      "source": [
        "import numpy as np\n",
        "import matplotlib.pyplot as plt\n",
        "x_xis=np.arange(0,15)\n",
        "plt.plot(x_xis,val_acc_arr)"
      ],
      "metadata": {
        "colab": {
          "base_uri": "https://localhost:8080/",
          "height": 447
        },
        "id": "wDTcMLMK2n7e",
        "outputId": "50f90fc3-a135-4317-fff3-a23a4b7f2f2f"
      },
      "execution_count": null,
      "outputs": [
        {
          "output_type": "execute_result",
          "data": {
            "text/plain": [
              "[<matplotlib.lines.Line2D at 0x786f845445e0>]"
            ]
          },
          "metadata": {},
          "execution_count": 8
        },
        {
          "output_type": "display_data",
          "data": {
            "text/plain": [
              "<Figure size 640x480 with 1 Axes>"
            ],
            "image/png": "[encoded data removed]"
          },
          "metadata": {}
        }
      ]
    },
    {
      "cell_type": "code",
      "source": [],
      "metadata": {
        "id": "_dAYaLJqVxpI"
      },
      "execution_count": null,
      "outputs": []
    },
    {
      "cell_type": "code",
      "source": [],
      "metadata": {
        "id": "h0irxbNlMpA9"
      },
      "execution_count": null,
      "outputs": []
    },
    {
      "cell_type": "markdown",
      "source": [
        "Training with different model for higher degree of accuracy\n",
        "1. implemented bi directional LSTM\n",
        "2. Implemented Adam Optimizer\n",
        "3. Parallely analysed GRU, RNN and LSTM. I my overall inference I found LST"
      ],
      "metadata": {
        "id": "mRsVnuJ6OTf-"
      }
    },
    {
      "cell_type": "code",
      "source": [
        "class ImprovedRNNClassifier(nn.Module):\n",
        "    def __init__(self, vocab_size, embedding_dim, hidden_dim, label_size, padding_idx, num_layers=2, dropout=0.5):\n",
        "        super(ImprovedRNNClassifier, self).__init__()\n",
        "        self.hidden_dim = hidden_dim\n",
        "        # Embedding Layer\n",
        "        self.embedding = nn.Embedding(vocab_size, embedding_dim, padding_idx=padding_idx)\n",
        "\n",
        "        # Bidirectional LSTM\n",
        "        self.lstm = nn.LSTM(embedding_dim, hidden_dim, num_layers=num_layers,\n",
        "                            batch_first=True, dropout=dropout, bidirectional=True)\n",
        "\n",
        "        # Fully connected layer - we multiply hidden_dim by 2 because of bidirectionality\n",
        "        self.fc = nn.Linear(hidden_dim * 2, label_size)\n",
        "\n",
        "        # Dropout layer for regularization\n",
        "        self.dropout = nn.Dropout(dropout)\n",
        "\n",
        "    def forward(self, text):\n",
        "        # Word embeddings\n",
        "        embedded = self.dropout(self.embedding(text))\n",
        "\n",
        "        # LSTM outputs\n",
        "        lstm_out, _ = self.lstm(embedded)\n",
        "\n",
        "        # We use the final hidden state from both the forward and backward LSTM\n",
        "        final_hidden_state = torch.cat((lstm_out[:, -1, :self.hidden_dim], lstm_out[:, 0, self.hidden_dim:]), dim=1)\n",
        "\n",
        "        # Classification\n",
        "        logits = self.fc(self.dropout(final_hidden_state))\n",
        "\n",
        "        return logits\n",
        "\n",
        "embedding_dim = 256\n",
        "hidden_dim = 89\n",
        "num_layers = 2\n",
        "dropout = 0.3\n",
        "lr = 0.001\n"
      ],
      "metadata": {
        "id": "3LTPoyCpOcy0"
      },
      "execution_count": null,
      "outputs": []
    },
    {
      "cell_type": "code",
      "source": [
        "# Parameters\n",
        "\n",
        "# Initialize model, criterion, and optimizer\n",
        "model = ImprovedRNNClassifier(vocab_size, embedding_dim, hidden_dim, label_size, padding_idx, num_layers, dropout)\n",
        "optimizer = optim.Adam(model.parameters(), lr=lr)\n",
        "criterion = nn.CrossEntropyLoss()\n",
        "\n",
        "\n",
        "N_EPOCHS = 10\n",
        "\n",
        "for epoch in range(N_EPOCHS):\n",
        "    train_loss, train_acc = train(model, train_iter, optimizer, criterion)\n",
        "    val_loss, val_acc = evaluate(model, val_iter, criterion)\n",
        "    test_loss, test_acc = evaluate(model, test_iter, criterion)\n",
        "    print(f\"Epoch: {epoch+1:02}\")\n",
        "    print(f\"\\tTrain Loss: {train_loss:.3f} | Train Acc: {train_acc*100:.2f}%\")\n",
        "    print(f\"\\tVal Loss: {val_loss:.3f} | Val Acc: {val_acc*100:.2f}%\")"
      ],
      "metadata": {
        "id": "oMVLoK-Iq11f",
        "outputId": "37791e82-c78e-49ce-8e80-bc1db430dede",
        "colab": {
          "base_uri": "https://localhost:8080/"
        }
      },
      "execution_count": null,
      "outputs": [
        {
          "output_type": "stream",
          "name": "stdout",
          "text": [
            "Epoch: 01\n",
            "\tTrain Loss: 1.040 | Train Acc: 45.95%\n",
            "\tVal Loss: 1.008 | Val Acc: 53.13%\n",
            "Epoch: 02\n",
            "\tTrain Loss: 0.951 | Train Acc: 57.48%\n",
            "\tVal Loss: 0.934 | Val Acc: 59.40%\n",
            "Epoch: 03\n",
            "\tTrain Loss: 0.837 | Train Acc: 64.48%\n",
            "\tVal Loss: 0.975 | Val Acc: 60.40%\n",
            "Epoch: 04\n",
            "\tTrain Loss: 0.746 | Train Acc: 68.59%\n",
            "\tVal Loss: 1.055 | Val Acc: 61.31%\n",
            "Epoch: 05\n",
            "\tTrain Loss: 0.667 | Train Acc: 71.98%\n",
            "\tVal Loss: 1.034 | Val Acc: 63.12%\n",
            "Epoch: 06\n",
            "\tTrain Loss: 0.620 | Train Acc: 73.75%\n",
            "\tVal Loss: 1.011 | Val Acc: 61.85%\n",
            "Epoch: 07\n",
            "\tTrain Loss: 0.574 | Train Acc: 74.86%\n",
            "\tVal Loss: 1.316 | Val Acc: 61.04%\n",
            "Epoch: 08\n",
            "\tTrain Loss: 0.540 | Train Acc: 76.70%\n",
            "\tVal Loss: 1.301 | Val Acc: 60.67%\n",
            "Epoch: 09\n",
            "\tTrain Loss: 0.503 | Train Acc: 78.72%\n",
            "\tVal Loss: 1.342 | Val Acc: 60.22%\n",
            "Epoch: 10\n",
            "\tTrain Loss: 0.486 | Train Acc: 79.26%\n",
            "\tVal Loss: 1.421 | Val Acc: 59.40%\n"
          ]
        }
      ]
    },
    {
      "cell_type": "code",
      "source": [
        "\n"
      ],
      "metadata": {
        "id": "bPrmYtdqrH9V"
      },
      "execution_count": null,
      "outputs": []
    },
    {
      "cell_type": "code",
      "source": [],
      "metadata": {
        "id": "O79L8sqTvCUQ"
      },
      "execution_count": null,
      "outputs": []
    }
  ]
}